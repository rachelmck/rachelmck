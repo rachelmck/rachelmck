{
 "cells": [
  {
   "cell_type": "markdown",
   "metadata": {},
   "source": [
    "# **Assignment 2`:` Python Fundamentals** \n",
    "In the near future, you will be permitted (*encouraged*, even) to use GitHub Copilot while completing your assignments and projects. However, be sure to complete this assignment with CoPilot disabled. To do this: \n",
    "1. Click the Copilot icon in the bottom right corner of your Codespace window (the icon looks like a little alien/monster head). This should open a list menu entitled GitHub Copilot Menu at the top centre of your Codespace interface. \n",
    "2. Click \"Disable completions\". This will disable Copilot and close the list menu.\n",
    "\n",
    "On one hand, note that there are telltale signs that can indicate to us whether this has been done or not. Relatedly, resist any temptation to ask any of last year's 3505 students, or your current classmates, for their answers. Remember that your teaching team members are not only experienced data science wizards, we're also teachers, which means we are well-versed in defense against the dark arts (e.g., cheating detection). In other words, don't cheat. We'll know, and we take academic integrity very seriously. You should too.\n",
    "\n",
    "On the other MUCH more important hand, your success in this course, and likewise in all future coding endeavors, will depend on your ability to understand fundamental coding concepts and techniques. Be kind to \"future you\" and truly learn, understand, and practice these concepts and techniques without assistive tools. Future you will thank present you for it. \n",
    "\n",
    "> \"Practice doesn't make perfect. Only perfect practice makes perfect.\" *- Vince Lombardi* <br>\n",
    "> \"Perfect practice involves making mistakes and learning from them.\" *- Any good coach, teacher, or friend*"
   ]
  },
  {
   "cell_type": "markdown",
   "metadata": {},
   "source": [
    "----"
   ]
  },
  {
   "cell_type": "markdown",
   "metadata": {},
   "source": [
    "#### <font size=5> **Section 1: `Theory`** </font>\n",
    "Answer the following questions using your own words. Input your answers within the Markdown/code cells provided. Please write concisely and use proper punctuation. When finished, run the cell to present your formatted answers."
   ]
  },
  {
   "cell_type": "markdown",
   "metadata": {},
   "source": [
    "`1.` How long are variables stored in a Jupyter Notebook's memory? `[30 XP]`"
   ]
  },
  {
   "cell_type": "code",
   "execution_count": 2,
   "metadata": {},
   "outputs": [
    {
     "name": "stdout",
     "output_type": "stream",
     "text": [
      "Variables are stored for as long as you would like. In order to clear them from memory, you have to restart the kernel because clearing the cell outputs is not enough\n"
     ]
    }
   ],
   "source": [
    "print(\"Variables are stored for as long as you would like. In order to clear them from memory, you have to restart the kernel because clearing the cell outputs is not enough\")"
   ]
  },
  {
   "cell_type": "markdown",
   "metadata": {},
   "source": [
    "######  "
   ]
  },
  {
   "cell_type": "markdown",
   "metadata": {},
   "source": [
    "`2.` Identify the operand(s) and operator(s) in the following operation. `[30 XP]` <br><br>\n",
    "`3 + 0.1415926535897`"
   ]
  },
  {
   "cell_type": "markdown",
   "metadata": {},
   "source": [
    "The operands are the values '3' and '0.1415926535897'. The operator is the addition '+'"
   ]
  },
  {
   "cell_type": "code",
   "execution_count": 3,
   "metadata": {},
   "outputs": [
    {
     "name": "stdout",
     "output_type": "stream",
     "text": [
      "The operands are the values '3' and '0.1415926535897'. The operator is the addition '+'\n"
     ]
    }
   ],
   "source": [
    "print(\"The operands are the values '3' and '0.1415926535897'. The operator is the addition '+'\")"
   ]
  },
  {
   "cell_type": "markdown",
   "metadata": {},
   "source": [
    "# "
   ]
  },
  {
   "cell_type": "markdown",
   "metadata": {},
   "source": [
    "`3.` What specific type of error do you receive if you try to use a variable that has not yet been defined? `[30 XP]`"
   ]
  },
  {
   "cell_type": "markdown",
   "metadata": {},
   "source": [
    "NameError"
   ]
  },
  {
   "cell_type": "code",
   "execution_count": 4,
   "metadata": {},
   "outputs": [
    {
     "name": "stdout",
     "output_type": "stream",
     "text": [
      "NameError\n"
     ]
    }
   ],
   "source": [
    "print(\"NameError\")"
   ]
  },
  {
   "cell_type": "markdown",
   "metadata": {},
   "source": [
    "# "
   ]
  },
  {
   "cell_type": "markdown",
   "metadata": {},
   "source": [
    "`4.` Describe two ways to improve the following `str` variable assignment, with respect to the Python best practices we've covered in this course so far. `[60 XP]`<br><br>\n",
    "`Name='Zinnia'`"
   ]
  },
  {
   "cell_type": "markdown",
   "metadata": {},
   "source": [
    "The first way to improve the variable assignment would be to use only lower-case in your variable. This is because Python is case-sensitive and upper-case letters have their own purpose. Secondly, I would change the variable to something more specific in order to avoid confusion or error in the future. Maybe changing the variable from 'Name' to 'puppy1name' for exmaple."
   ]
  },
  {
   "cell_type": "code",
   "execution_count": 2,
   "metadata": {},
   "outputs": [
    {
     "name": "stdout",
     "output_type": "stream",
     "text": [
      "The first way to improve the variable assignment would be to use only lower-case in your variable. This is because Python is case-sensitive and upper-case letters have their own purpose. Secondly, I would change the variable to something more specific in order to avoid confusion and errors in the future. Maybe changing the variable from 'Name' to 'puppy1name' for example.\n"
     ]
    }
   ],
   "source": [
    "print(\"The first way to improve the variable assignment would be to use only lower-case in your variable. This is because Python is case-sensitive and upper-case letters have their own purpose. Secondly, I would change the variable to something more specific in order to avoid confusion and errors in the future. Maybe changing the variable from 'Name' to 'puppy1name' for example.\")"
   ]
  },
  {
   "cell_type": "markdown",
   "metadata": {},
   "source": [
    "# "
   ]
  },
  {
   "cell_type": "markdown",
   "metadata": {},
   "source": [
    "`5.` What is the difference between a Python *variable* and its corresponding *value*? `[60 XP]`"
   ]
  },
  {
   "cell_type": "markdown",
   "metadata": {},
   "source": [
    "A python variable is an assignment to a specific value. A value can be a name, number, equation, etc. The variable kind of acts as a shortcut for values that can persist between cells and be used in calculations."
   ]
  },
  {
   "cell_type": "code",
   "execution_count": 3,
   "metadata": {},
   "outputs": [
    {
     "name": "stdout",
     "output_type": "stream",
     "text": [
      "A Python variable is an assignment to a specific value. A value can be a name, number, equation, etc. The variable kind of acts as a shortcut for values that can persist between cells and be used in calculations.\n"
     ]
    }
   ],
   "source": [
    "print(\"A Python variable is an assignment to a specific value. A value can be a name, number, equation, etc. The variable kind of acts as a shortcut for values that can persist between cells and be used in calculations.\")"
   ]
  },
  {
   "cell_type": "markdown",
   "metadata": {},
   "source": [
    "######"
   ]
  },
  {
   "cell_type": "markdown",
   "metadata": {},
   "source": [
    "`6.` What is the difference between an `int` value and a `float` value? `[30 XP]`"
   ]
  },
  {
   "cell_type": "markdown",
   "metadata": {},
   "source": [
    "'int' represents and integer. An integer is a whole number that is either positive or negative. 'float' represents a real number. A real number is a whole or decimal number that is either positive or negative."
   ]
  },
  {
   "cell_type": "code",
   "execution_count": 4,
   "metadata": {},
   "outputs": [
    {
     "name": "stdout",
     "output_type": "stream",
     "text": [
      "'int' represents an integer. An integer is a whole number that is either positive or negative. 'float' represents a real number. A real number is a whole or decimal number that is either positive or negative.\n"
     ]
    }
   ],
   "source": [
    "print(\"'int' represents an integer. An integer is a whole number that is either positive or negative. 'float' represents a real number. A real number is a whole or decimal number that is either positive or negative.\")"
   ]
  },
  {
   "cell_type": "markdown",
   "metadata": {},
   "source": [
    "##### "
   ]
  },
  {
   "cell_type": "markdown",
   "metadata": {},
   "source": [
    "`7.` Why does `len(8)` throw an error but `len('eight')` does not? <br> (Note: \"throw an error\" is an informal way of saying \"output an error message\") `[60 XP]`"
   ]
  },
  {
   "cell_type": "markdown",
   "metadata": {},
   "source": [
    "This is because the 'len' function counts string length. However, numbers do not have a length. Therefore, len(8) would output a TypeError."
   ]
  },
  {
   "cell_type": "code",
   "execution_count": 5,
   "metadata": {},
   "outputs": [
    {
     "name": "stdout",
     "output_type": "stream",
     "text": [
      "This is because the 'len' function counts string length. However, numbers do not have a length. Therefore, len(8) would output a TypeError.\n"
     ]
    }
   ],
   "source": [
    "print(\"This is because the 'len' function counts string length. However, numbers do not have a length. Therefore, len(8) would output a TypeError.\")"
   ]
  },
  {
   "cell_type": "markdown",
   "metadata": {},
   "source": [
    "##### "
   ]
  },
  {
   "cell_type": "markdown",
   "metadata": {},
   "source": [
    "`8.` Describe the difference between a `NameError` and a `SyntaxError`. `[30 XP]`"
   ]
  },
  {
   "cell_type": "markdown",
   "metadata": {},
   "source": [
    "A 'NameError' happens when you use an undefined variable. A 'SyntaxError' happens when you don't arrange your code properly in order for it to run."
   ]
  },
  {
   "cell_type": "code",
   "execution_count": 7,
   "metadata": {},
   "outputs": [
    {
     "name": "stdout",
     "output_type": "stream",
     "text": [
      "A 'NameError' happens when you use an undefined variable. A 'SyntaxError' happens when you don't arrange your code properly in order for it to run.\n"
     ]
    }
   ],
   "source": [
    "print(\"A 'NameError' happens when you use an undefined variable. A 'SyntaxError' happens when you don't arrange your code properly in order for it to run.\")"
   ]
  },
  {
   "cell_type": "markdown",
   "metadata": {},
   "source": [
    "##### "
   ]
  },
  {
   "cell_type": "markdown",
   "metadata": {},
   "source": [
    "`9.` Name the three division types described in the course content (i.e., `/`, `//`, and `%`), and briefly describe what each of them does. `[60 XP]`"
   ]
  },
  {
   "cell_type": "markdown",
   "metadata": {},
   "source": [
    "The '/' division type performs floating-point division. This means that it divides to yield a 'float' real number value.\n",
    "\n",
    "The '//' division type performs integer floor division. This means that it divides to yield an 'int' whole number value.\n",
    "\n",
    "The '%' division type calculates the remainder value from an integer floor division."
   ]
  },
  {
   "cell_type": "code",
   "execution_count": 1,
   "metadata": {},
   "outputs": [
    {
     "name": "stdout",
     "output_type": "stream",
     "text": [
      "The '/' division type performs floating-point division. This means that it divides to yield a 'float', real number value.\n",
      "The '//' division type performs integer floor division. This means that it divides to yield an 'int', whole number value.\n",
      "The '%' division type calculates the remainder value from an integer floor division.\n"
     ]
    }
   ],
   "source": [
    "print(\"The '/' division type performs floating-point division. This means that it divides to yield a 'float', real number value.\")\n",
    "print(\"The '//' division type performs integer floor division. This means that it divides to yield an 'int', whole number value.\")\n",
    "print(\"The '%' division type calculates the remainder value from an integer floor division.\")"
   ]
  },
  {
   "cell_type": "markdown",
   "metadata": {},
   "source": [
    "##### "
   ]
  },
  {
   "cell_type": "markdown",
   "metadata": {},
   "source": [
    "`10.` Briefly describe three important characteristics of the `dict` data type, based on the course content covered so far. `[90 XP]`"
   ]
  },
  {
   "cell_type": "markdown",
   "metadata": {},
   "source": [
    "Dictionaries, otherwise known as 'dict' are data types that store collections of multiple values of any data type. They are similar to string variables, but there is a 'key' (has to be 'int' or 'float') that is associated by ':' to each value. Dictionaries are also mutable (unlike str), meaning we can change values that are already assigned to keys. However, we can't change the key itself."
   ]
  },
  {
   "cell_type": "code",
   "execution_count": 2,
   "metadata": {},
   "outputs": [
    {
     "name": "stdout",
     "output_type": "stream",
     "text": [
      "Dictionaries, otherwise known as 'dict' are data types that store collections of multiple values of any data type. They are similar to string variables, but there is a 'key' (has to be 'int' or 'float') that is associated by ':' to each value. Dictionaries are also mutable (unlike str), meaning we can change values that are already assigned to keys. However, we can't change the key itself.\n"
     ]
    }
   ],
   "source": [
    "print(\"Dictionaries, otherwise known as 'dict' are data types that store collections of multiple values of any data type. They are similar to string variables, but there is a 'key' (has to be 'int' or 'float') that is associated by ':' to each value. Dictionaries are also mutable (unlike str), meaning we can change values that are already assigned to keys. However, we can't change the key itself.\")"
   ]
  },
  {
   "cell_type": "markdown",
   "metadata": {},
   "source": [
    "##### "
   ]
  },
  {
   "cell_type": "markdown",
   "metadata": {},
   "source": [
    "`11.` What characteristic do `str` and `list` data types share? `[30 XP]`"
   ]
  },
  {
   "cell_type": "markdown",
   "metadata": {},
   "source": [
    "Strings and lists can both be sliced to get ranges of values. They also index in the same manner (using square brackets)."
   ]
  },
  {
   "cell_type": "code",
   "execution_count": 3,
   "metadata": {},
   "outputs": [
    {
     "name": "stdout",
     "output_type": "stream",
     "text": [
      "Strings and lists can both be sliced to get ranges of values in the same way. They also index in the same manner (using square brackets).\n"
     ]
    }
   ],
   "source": [
    "print(\"Strings and lists can both be sliced to get ranges of values in the same way. They also index in the same manner (using square brackets).\")"
   ]
  },
  {
   "cell_type": "markdown",
   "metadata": {},
   "source": [
    "### "
   ]
  },
  {
   "cell_type": "markdown",
   "metadata": {},
   "source": [
    "`12.` In the code cell below, write a command to get built-in \"help\" on the `sum()` function, then run the cell. `[30 XP]`"
   ]
  },
  {
   "cell_type": "code",
   "execution_count": 4,
   "metadata": {},
   "outputs": [
    {
     "name": "stdout",
     "output_type": "stream",
     "text": [
      "Help on built-in function sum in module builtins:\n",
      "\n",
      "sum(iterable, /, start=0)\n",
      "    Return the sum of a 'start' value (default: 0) plus an iterable of numbers\n",
      "\n",
      "    When the iterable is empty, return the start value.\n",
      "    This function is intended specifically for use with numeric values and may\n",
      "    reject non-numeric types.\n",
      "\n"
     ]
    }
   ],
   "source": [
    "help(sum)"
   ]
  },
  {
   "cell_type": "markdown",
   "metadata": {},
   "source": [
    "##### "
   ]
  },
  {
   "cell_type": "markdown",
   "metadata": {},
   "source": [
    "`13.` Answer the questions below based on the output from the previous cell. <br><br>\n",
    "`(a)` Name the *required* argument and the *optional* argument for the `round()` function. `[30 XP]`"
   ]
  },
  {
   "cell_type": "markdown",
   "metadata": {},
   "source": [
    "The required argument is the floating-point number that you want to round and the optional argument is the number of decimal places."
   ]
  },
  {
   "cell_type": "code",
   "execution_count": 6,
   "metadata": {},
   "outputs": [
    {
     "name": "stdout",
     "output_type": "stream",
     "text": [
      "For Example\n"
     ]
    },
    {
     "data": {
      "text/plain": [
       "3.14"
      ]
     },
     "execution_count": 6,
     "metadata": {},
     "output_type": "execute_result"
    }
   ],
   "source": [
    "print(\"For Example\")\n",
    "round(3.14159, 2)"
   ]
  },
  {
   "cell_type": "markdown",
   "metadata": {},
   "source": [
    "`(b)` Name the default value for the optional argument. `[30 XP]`"
   ]
  },
  {
   "cell_type": "markdown",
   "metadata": {},
   "source": [
    "The default value is to round to zero decimal places."
   ]
  },
  {
   "cell_type": "code",
   "execution_count": 7,
   "metadata": {},
   "outputs": [
    {
     "name": "stdout",
     "output_type": "stream",
     "text": [
      "For Example\n"
     ]
    },
    {
     "data": {
      "text/plain": [
       "3"
      ]
     },
     "execution_count": 7,
     "metadata": {},
     "output_type": "execute_result"
    }
   ],
   "source": [
    "print(\"For Example\")\n",
    "round(3.14159)"
   ]
  },
  {
   "cell_type": "markdown",
   "metadata": {},
   "source": [
    "`(c)` Describe what the optional argument does. `[30 XP]`"
   ]
  },
  {
   "cell_type": "markdown",
   "metadata": {},
   "source": [
    "The optional argument will specify the number of decimal places that you want to round to. You do this by entering a positive whole number declaring the decimal place value of choice."
   ]
  },
  {
   "cell_type": "code",
   "execution_count": 8,
   "metadata": {},
   "outputs": [
    {
     "name": "stdout",
     "output_type": "stream",
     "text": [
      "Let's say I want three decimal places\n"
     ]
    },
    {
     "data": {
      "text/plain": [
       "3.142"
      ]
     },
     "execution_count": 8,
     "metadata": {},
     "output_type": "execute_result"
    }
   ],
   "source": [
    "print(\"Let's say I want three decimal places\")\n",
    "round(3.14159, 3)"
   ]
  },
  {
   "cell_type": "markdown",
   "metadata": {},
   "source": [
    "#####"
   ]
  },
  {
   "cell_type": "markdown",
   "metadata": {},
   "source": [
    "`14.` The following `dict` assignment has multiple flaws: <br><br>`My dict={'puppy's name:'Zinnia', 'breed':papillon, 'Age': 3` <br><br>Some of the flaws are *fatal* (i.e., Python will throw an error and will not run the cell). Other flaws are *stylistic* (i.e., the code does not conform to generally-accepted Python style standards for readability and/or efficiency). "
   ]
  },
  {
   "cell_type": "markdown",
   "metadata": {},
   "source": [
    "`(a)` Identify at least two fatal flaws, and briefly explain (or show) how they should be corrected. `[30 XP]`"
   ]
  },
  {
   "cell_type": "markdown",
   "metadata": {},
   "source": [
    "The key for 'Zinnia' is missing a quotation mark, the value for 'breed' is missing quotation marks, and there is no bracket at the end which leads to incomplete input."
   ]
  },
  {
   "cell_type": "code",
   "execution_count": 21,
   "metadata": {},
   "outputs": [],
   "source": [
    "My_dict = {'puppys_name':'Zinnia', 'breed':'papillon', 'Age': 3}"
   ]
  },
  {
   "cell_type": "markdown",
   "metadata": {},
   "source": [
    "`(b)` Identify at least two stylistic flaws, and briefly explain (or show) how they should be corrected. `[30 XP]`"
   ]
  },
  {
   "cell_type": "markdown",
   "metadata": {},
   "source": [
    "There is inappropriate use of capital letters when naming keys (i.e. 'My' and 'Age') and adding spaces between colons would improve clarity."
   ]
  },
  {
   "cell_type": "code",
   "execution_count": 22,
   "metadata": {},
   "outputs": [],
   "source": [
    "my_dict = {'puppys_name' : 'Zinnia', 'breed' : 'papillon', 'age' : 3}"
   ]
  },
  {
   "cell_type": "markdown",
   "metadata": {},
   "source": [
    "### "
   ]
  },
  {
   "cell_type": "markdown",
   "metadata": {},
   "source": [
    "`15.` The following code changes the value's data type multiple times. <br><br>\n",
    "`list(str(int(float(42))))[0]` <br><br>\n",
    "What is the value's data type at each step in the process, beginning with its original type and ending with its final type? `[60 XP]`"
   ]
  },
  {
   "cell_type": "markdown",
   "metadata": {},
   "source": [
    "The original type is 42, which is an integer itself. Then it is converted to a float (42.0). Then back to an integer (42). Then to a string ('42'). Then to a list (['4', '2']). Then back to str and the addition of [0] means only the first element of the list will be assessed, therefore ('4'). "
   ]
  },
  {
   "cell_type": "code",
   "execution_count": 28,
   "metadata": {},
   "outputs": [
    {
     "data": {
      "text/plain": [
       "'4'"
      ]
     },
     "execution_count": 28,
     "metadata": {},
     "output_type": "execute_result"
    }
   ],
   "source": [
    "list(str(int(float(42))))[0]"
   ]
  },
  {
   "cell_type": "markdown",
   "metadata": {},
   "source": [
    "### "
   ]
  },
  {
   "cell_type": "markdown",
   "metadata": {},
   "source": [
    "----"
   ]
  },
  {
   "cell_type": "markdown",
   "metadata": {},
   "source": [
    "#### <font size=5> **Section 2: `Application`** </font>\n",
    "**Mad Libs** is a popular word game in which a player is prompted for a variety of short responses. The responses are later substituted for blanks within a story and read aloud. The game is frequently played as a party game or as a pastime. [Click here](https://youtu.be/kM9Wuzj4k24?feature=shared) to see a video example. We will do something similar here, though it won't be read aloud (and won't be quite as funny)."
   ]
  },
  {
   "cell_type": "markdown",
   "metadata": {},
   "source": [
    "`16.` Assign a value of your choosing to each variable name in the code cell below. Base your input on the corresponding comment (the green words that follow the `#`). Do this by deleting the `_____` placeholders and inputting (typing) your chosen value. Be sure to use correct syntax relative to your values' data types. When you are finished, run the code cell to assign your values. `[30 XP]`"
   ]
  },
  {
   "cell_type": "code",
   "execution_count": 3,
   "metadata": {},
   "outputs": [],
   "source": [
    "# a person's first name\n",
    "a_first_name = \"Ben\"\n",
    "\n",
    "# a different first name\n",
    "a_different_first_name = \"Jerry\"\n",
    "\n",
    "# a liquid substance (e.g., water)\n",
    "a_liquid_substance = \"milk\"\n",
    "\n",
    "# something you wear on your head\n",
    "some_sort_of_headwear = \"fedora\""
   ]
  },
  {
   "cell_type": "markdown",
   "metadata": {},
   "source": [
    "### "
   ]
  },
  {
   "cell_type": "markdown",
   "metadata": {},
   "source": [
    "#### Now let's apply our new variables to the nursery rhyme *Jack and Jill*, which goes like this: \n",
    "`Jack and Jill went up the hill` <br>\n",
    "`to fetch a pail of water.` <br>\n",
    "`Jack fell down and broke his crown` <br>\n",
    "`and Jill came tumbling after.` <br>"
   ]
  },
  {
   "cell_type": "markdown",
   "metadata": {},
   "source": [
    "### "
   ]
  },
  {
   "cell_type": "markdown",
   "metadata": {},
   "source": [
    "`17.` Complete the following steps in the code cell below:\n",
    "- Rewrite the nursery rhyme in a single line within the `print()` function parentheses provided below. \n",
    "- Insert the `\\n` code snippet to create line breaks at appropriate places within the string, such that your one-line input generates a four-line output that matches the format seen above (e.g., alignment, punctuation, etc.). If you are unsure how to use the `\\n` code snippet, Google it. \n",
    "- Finally, run the cell. Troubleshoot any errors or alternative outputs. \n",
    "\n",
    "`[60 XP]`"
   ]
  },
  {
   "cell_type": "code",
   "execution_count": 72,
   "metadata": {},
   "outputs": [
    {
     "name": "stdout",
     "output_type": "stream",
     "text": [
      "Jack and Jill went up the hill \n",
      "to fetch a pail of water. \n",
      "Jack fell down and broke his crown \n",
      "and Jill came tumbling after.\n"
     ]
    }
   ],
   "source": [
    "print(f'Jack and Jill went up the hill \\nto fetch a pail of water. \\nJack fell down and broke his crown \\nand Jill came tumbling after.')"
   ]
  },
  {
   "cell_type": "markdown",
   "metadata": {},
   "source": [
    "### "
   ]
  },
  {
   "cell_type": "markdown",
   "metadata": {},
   "source": [
    "`18.` Complete the following steps in the code cell below:\n",
    "- Copy and your entire `print()` statement from the code cell above and paste it into the code cell below. \n",
    "- Replace each instance of the word \"Jack\" with the `a_first_name` variable. Use the variable name itself, not its value. \n",
    "- Replace each instance of the word \"Jill\" with the `a_different_first_name` variable, the word \"water\" with the `a_liquid_substance` variable, and the word \"crown\" with the `some_sort_of_headwear` variable. \n",
    "- Modify the syntax as needed to ensure that the cell will run with no errors, and that the output will be formatted properly.\n",
    "- Lastly, run the cell to verify the output.\n",
    "\n",
    "`[30 XP]`"
   ]
  },
  {
   "cell_type": "code",
   "execution_count": 82,
   "metadata": {},
   "outputs": [
    {
     "name": "stdout",
     "output_type": "stream",
     "text": [
      "Ben and Jerry went up the hill \n",
      "to fetch a pail of milk. \n",
      "Ben fell down and broke his fedora \n",
      "and Jerry came tumbling after.\n"
     ]
    }
   ],
   "source": [
    "print(f'{a_first_name} and {a_different_first_name} went up the hill \\nto fetch a pail of {a_liquid_substance}. \\n{a_first_name} fell down and broke his {some_sort_of_headwear} \\nand {a_different_first_name} came tumbling after.')"
   ]
  },
  {
   "cell_type": "markdown",
   "metadata": {},
   "source": [
    "### "
   ]
  },
  {
   "cell_type": "markdown",
   "metadata": {},
   "source": [
    "`19.` You may have noticed that the variable names provided for you in Question 16 do not follow Python best practices. Briefly explain why. Base your answer on the course content covered so far. `[60 XP]`"
   ]
  },
  {
   "cell_type": "markdown",
   "metadata": {},
   "source": [
    "The variable names contain a lot of redundancies and aren't exactly clear and concise. For example, 'a_liquid_substance' only really needs to be 'liquid'. This makes our code much more readable."
   ]
  },
  {
   "cell_type": "markdown",
   "metadata": {},
   "source": [
    "###"
   ]
  },
  {
   "cell_type": "markdown",
   "metadata": {},
   "source": [
    "`20.` The variables need better names. Create your own in the code cell below:\n",
    "- Replace the corresponding \"_____\" placeholders to `swap` the original bad variable names with your new-and-improved names. \n",
    "- Replace the placeholders in each `print()` statement according to the commented prompts. \n",
    "- Run the cell to verify the output. <br>\n",
    "\n",
    "`[30 XP]`"
   ]
  },
  {
   "cell_type": "code",
   "execution_count": 4,
   "metadata": {},
   "outputs": [
    {
     "name": "stdout",
     "output_type": "stream",
     "text": [
      "Ben Jerry milk fedora\n",
      "Ben Jerry milk fedora\n"
     ]
    }
   ],
   "source": [
    "# reassignment\n",
    "swap = a_first_name\n",
    "name = swap\n",
    "\n",
    "swap = a_different_first_name\n",
    "other_name = swap\n",
    "\n",
    "swap = a_liquid_substance\n",
    "liquid = swap\n",
    "\n",
    "swap = some_sort_of_headwear\n",
    "headwear = swap\n",
    "\n",
    "# the original bad variable names\n",
    "print(a_first_name, a_different_first_name, a_liquid_substance, some_sort_of_headwear)\n",
    "\n",
    "# your new good variable names\n",
    "print(name, other_name, liquid, headwear)"
   ]
  },
  {
   "cell_type": "markdown",
   "metadata": {},
   "source": [
    "######"
   ]
  },
  {
   "cell_type": "markdown",
   "metadata": {},
   "source": [
    "`21.` Complete the following steps in the code cell below:\n",
    "- Copy your entire `print()` statement from Question 18 and paste it into the code cell below. \n",
    "- Replace the bad variable names with your good ones. \n",
    "- Run the cell. The output should be identical to the output from Question 18, but you've made your input more readable and your code more efficient. These are two important aspects of *Pythonicity* (We'll talk more about this in the future).\n",
    "\n",
    "`[30 XP]`"
   ]
  },
  {
   "cell_type": "code",
   "execution_count": 83,
   "metadata": {},
   "outputs": [
    {
     "name": "stdout",
     "output_type": "stream",
     "text": [
      "Ben and Jerry went up the hill \n",
      "to fetch a pail of milk. \n",
      "Ben fell down and broke his fedora \n",
      "and Jerry came tumbling after.\n"
     ]
    }
   ],
   "source": [
    "print(f'{name} and {other_name} went up the hill \\nto fetch a pail of {liquid}. \\n{name} fell down and broke his {headwear} \\nand {other_name} came tumbling after.')"
   ]
  },
  {
   "cell_type": "markdown",
   "metadata": {},
   "source": [
    "### "
   ]
  },
  {
   "cell_type": "markdown",
   "metadata": {},
   "source": [
    "#### Let's see more reassignment in action."
   ]
  },
  {
   "cell_type": "markdown",
   "metadata": {},
   "source": [
    "`22.` Complete the following steps in the code cell below: \n",
    "- Use the first `print()` statement to print your variables' **names**, and the second `print()` statement to print their **values**. <br>Leave the third `print()` statement empty to create a blank line in your output.\n",
    "- Copy your entire `print()` statement from the code cell in Question 20 and paste it beneath the `nursery rhyme` comment.\n",
    "- Run the cell and observe the output. Note that using variable names in the input code generates their values as output. \n",
    "\n",
    "`[60 XP]`"
   ]
  },
  {
   "cell_type": "code",
   "execution_count": 5,
   "metadata": {},
   "outputs": [
    {
     "name": "stdout",
     "output_type": "stream",
     "text": [
      "My variables: name other_name liquid headwear\n",
      "My variables' values: Ben Jerry milk fedora\n",
      "\n",
      "Ben Jerry milk fedora\n"
     ]
    }
   ],
   "source": [
    "# vars and vals\n",
    "print(\"My variables:\", 'name', 'other_name', 'liquid', 'headwear')\n",
    "print(\"My variables' values:\", 'Ben', 'Jerry', 'milk', 'fedora')\n",
    "print()\n",
    "\n",
    "# nursery rhyme \n",
    "print(name, other_name, liquid, headwear)"
   ]
  },
  {
   "cell_type": "markdown",
   "metadata": {},
   "source": [
    "### "
   ]
  },
  {
   "cell_type": "markdown",
   "metadata": {},
   "source": [
    "`23.` Complete the following steps:\n",
    "- Think of another appropriate value for each of your variables.\n",
    "- Create a `list` object for each variable and assign it both values (your original and your new one). Ensure that each list's name is descriptive, but not identical to its corresponding original `str` variable. Also ensure that you use correct list syntax.\n",
    "- Run the cell to execute the assignment.\n",
    "\n",
    "`[60 XP]`"
   ]
  },
  {
   "cell_type": "code",
   "execution_count": 116,
   "metadata": {},
   "outputs": [],
   "source": [
    "# create list variables and assign values\n",
    "names = [name, 'Lily']\n",
    "other_names = [other_name, 'Marshall']\n",
    "liquids = [liquid, 'beer']\n",
    "hats = [headwear, 'toque']"
   ]
  },
  {
   "cell_type": "markdown",
   "metadata": {},
   "source": [
    "### "
   ]
  },
  {
   "cell_type": "markdown",
   "metadata": {},
   "source": [
    "`24.` Use Python's built-in functions to verify that each list objects is, in fact, a list. Ensure that all four lists are verified in a single output. `[30 XP]`"
   ]
  },
  {
   "cell_type": "code",
   "execution_count": 117,
   "metadata": {},
   "outputs": [
    {
     "name": "stdout",
     "output_type": "stream",
     "text": [
      "['names:', ['Ben', 'Lily'], 'other names:', ['Jerry', 'Marshall'], 'liquids:', ['milk', 'beer'], 'hats:', ['fedora', 'toque']]\n"
     ]
    }
   ],
   "source": [
    "lists = ['names:', names, 'other names:', other_names, 'liquids:', liquids, 'hats:', hats]\n",
    "\n",
    "print(lists)"
   ]
  },
  {
   "cell_type": "markdown",
   "metadata": {},
   "source": [
    "### "
   ]
  },
  {
   "cell_type": "markdown",
   "metadata": {},
   "source": [
    "`25.` Think of two more appropriate values for each list variable, and add them to their corresponding list using an effective `list method` command. `[60 XP]`"
   ]
  },
  {
   "cell_type": "code",
   "execution_count": 143,
   "metadata": {},
   "outputs": [
    {
     "name": "stdout",
     "output_type": "stream",
     "text": [
      "['names:', ['Ben', 'Lily', 'Bing', 'Ken'], 'other names:', ['Jerry', 'Marshall', 'Bong', 'Barbie'], 'liquids:', ['milk', 'beer', 'coffee', 'gasoline'], 'hats:', ['fedora', 'toque', 'tiara', 'halo']]\n"
     ]
    }
   ],
   "source": [
    "more_names = 'Bing', 'Ken'\n",
    "names.extend(more_names)\n",
    "\n",
    "more_other_names = 'Bong', 'Barbie'\n",
    "other_names.extend(more_other_names)\n",
    "\n",
    "more_liquids = 'coffee', 'gasoline'\n",
    "liquids.extend(more_liquids)\n",
    "\n",
    "more_hats = 'tiara', 'halo'\n",
    "hats.extend(more_hats)\n",
    "\n",
    "print(lists)"
   ]
  },
  {
   "cell_type": "markdown",
   "metadata": {},
   "source": [
    "### "
   ]
  },
  {
   "cell_type": "markdown",
   "metadata": {},
   "source": [
    "`26.` Now that you have four lists with four values stored within each, let's practice indexing them. In the code cell below, write individual `print()` statements to print the following values, each on their own output line: \n",
    " - The first value of the first list.\n",
    " - The second value of the second list. \n",
    " - The third value of the third list.\n",
    " - The fourth value of the fourth list.\n",
    "\n",
    " `[60 XP]`"
   ]
  },
  {
   "cell_type": "code",
   "execution_count": 149,
   "metadata": {},
   "outputs": [
    {
     "name": "stdout",
     "output_type": "stream",
     "text": [
      "first value of names: Ben\n",
      "second value of other names: Marshall\n",
      "third value of liquids: coffee\n",
      "fourth value of hats: halo\n"
     ]
    }
   ],
   "source": [
    "print('first value of names:', names[0])\n",
    "print('second value of other names:', other_names[1])\n",
    "print('third value of liquids:', liquids[2])\n",
    "print('fourth value of hats:', hats[3])"
   ]
  },
  {
   "cell_type": "markdown",
   "metadata": {},
   "source": [
    "##### "
   ]
  },
  {
   "cell_type": "markdown",
   "metadata": {},
   "source": [
    "`27.` Let's now use our `list` variables in our nursery rhyme once again. \n",
    "- Copy the entire `print()` statement from Question 18 once again, and paste it into the code cell below. \n",
    "- This time, replace the `str` variable names with your new `list` variables you created in Question 23.  \n",
    "- Run the cell and observe the outcome.\n",
    "\n",
    "`[30 XP]`"
   ]
  },
  {
   "cell_type": "code",
   "execution_count": 156,
   "metadata": {},
   "outputs": [
    {
     "name": "stdout",
     "output_type": "stream",
     "text": [
      "['Ben', 'Lily', 'Bing', 'Ken'] and ['Jerry', 'Marshall', 'Bong', 'Barbie'] went up the hill \n",
      "to fetch a pail of ['milk', 'beer', 'coffee', 'gasoline']. \n",
      "['Ben', 'Lily', 'Bing', 'Ken'] fell down and broke his ['fedora', 'toque', 'tiara', 'halo'] \n",
      "and ['Jerry', 'Marshall', 'Bong', 'Barbie'] came tumbling after.\n"
     ]
    }
   ],
   "source": [
    "print(f'{names} and {other_names} went up the hill \\nto fetch a pail of {liquids}. \\n{names} fell down and broke his {hats} \\nand {other_names} came tumbling after.')"
   ]
  },
  {
   "cell_type": "markdown",
   "metadata": {},
   "source": [
    "##### "
   ]
  },
  {
   "cell_type": "markdown",
   "metadata": {},
   "source": [
    "`28.` Note that the list variables broke the code in the previous cell. Let's fix this:\n",
    "- Copy the full `print()` statement from the previous code cell (immediately above) and paste it in the code cell below.\n",
    "- Use correct syntax to index one list item from each list variable. You may choose whichever item you wish.\n",
    "- Run the cell to generate a properly-formatted output with no errors. Troubleshoot as needed.\n",
    "\n",
    "`[60 XP]`"
   ]
  },
  {
   "cell_type": "code",
   "execution_count": 155,
   "metadata": {},
   "outputs": [
    {
     "name": "stdout",
     "output_type": "stream",
     "text": [
      "Ken and Barbie went up the hill \n",
      "to fetch a pail of gasoline. \n",
      "Ken fell down and broke his fedora \n",
      "and Barbie came tumbling after.\n"
     ]
    }
   ],
   "source": [
    "print(f'{names[3]} and {other_names[3]} went up the hill \\nto fetch a pail of {liquids[3]}. \\n{names[3]} fell down and broke his {hats[0]} \\nand {other_names[3]} came tumbling after.')"
   ]
  },
  {
   "cell_type": "markdown",
   "metadata": {},
   "source": [
    "##### "
   ]
  },
  {
   "cell_type": "markdown",
   "metadata": {},
   "source": [
    "### <font size =5> Section: 3: `Know Your Code` </font>\n",
    "Follow the instructions below to explain the seemingly odd output that you are about to encounter. "
   ]
  },
  {
   "cell_type": "markdown",
   "metadata": {},
   "source": [
    "Let's revisit the `swap` code from Question 20. This time, run the cell without making any changes. Observe the output, then answer the questions below."
   ]
  },
  {
   "cell_type": "code",
   "execution_count": 160,
   "metadata": {},
   "outputs": [
    {
     "name": "stdout",
     "output_type": "stream",
     "text": [
      "fedora fedora fedora fedora\n",
      "fedora fedora fedora fedora\n"
     ]
    }
   ],
   "source": [
    "# reassignment\n",
    "swap = a_first_name\n",
    "_____ = swap\n",
    "\n",
    "swap = a_different_first_name\n",
    "_____ = swap\n",
    "\n",
    "swap = a_liquid_substance\n",
    "_____ = swap\n",
    "\n",
    "swap = some_sort_of_headwear\n",
    "_____ = swap\n",
    "\n",
    "# the original bad variable names\n",
    "print(_____, _____, _____, _____)\n",
    "\n",
    "# your new good variable names\n",
    "print(_____, _____, _____, _____)"
   ]
  },
  {
   "cell_type": "markdown",
   "metadata": {},
   "source": [
    "`29.`  What does the repeated word represent (i.e. where did it come from)? `[60 XP]`"
   ]
  },
  {
   "cell_type": "markdown",
   "metadata": {},
   "source": [
    "The repeated word is my value for the headwear variable. It was generated because it is the most recent inputted value into the dataset."
   ]
  },
  {
   "cell_type": "markdown",
   "metadata": {},
   "source": [
    "`30.` Why was the word generated eight times? Mention any/all contributing reasons. `[90 XP]`"
   ]
  },
  {
   "cell_type": "markdown",
   "metadata": {},
   "source": [
    "It was generated eight times because of the four blank spaces after the two print functions."
   ]
  },
  {
   "cell_type": "markdown",
   "metadata": {},
   "source": [
    "### "
   ]
  },
  {
   "cell_type": "markdown",
   "metadata": {},
   "source": [
    "\n",
    "\n",
    "\n",
    "\n",
    "#### `This concludes Assignment 2. Congratulations!`"
   ]
  }
 ],
 "metadata": {
  "kernelspec": {
   "display_name": "ncil",
   "language": "python",
   "name": "python3"
  },
  "language_info": {
   "codemirror_mode": {
    "name": "ipython",
    "version": 3
   },
   "file_extension": ".py",
   "mimetype": "text/x-python",
   "name": "python",
   "nbconvert_exporter": "python",
   "pygments_lexer": "ipython3",
   "version": "3.12.1"
  },
  "orig_nbformat": 4
 },
 "nbformat": 4,
 "nbformat_minor": 2
}
